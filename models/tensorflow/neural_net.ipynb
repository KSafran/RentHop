{
 "cells": [
  {
   "cell_type": "code",
   "execution_count": 62,
   "metadata": {
    "collapsed": true
   },
   "outputs": [],
   "source": [
    "import tensorflow as tf\n",
    "import numpy as np\n",
    "import pandas as pd"
   ]
  },
  {
   "cell_type": "code",
   "execution_count": 63,
   "metadata": {
    "collapsed": false
   },
   "outputs": [],
   "source": [
    "# Load Data\n",
    "hop_train = pd.read_csv('C:/users/kyle/Desktop/Renthop data/nn_train.csv')\n",
    "hop_train_label = pd.read_csv('C:/users/kyle/Desktop/Renthop data/nn_train_labs.csv')"
   ]
  },
  {
   "cell_type": "code",
   "execution_count": 70,
   "metadata": {
    "collapsed": false
   },
   "outputs": [],
   "source": [
    "# Neural Net Graph Parameters\n",
    "n_l1_nodes = 30\n",
    "n_l2_nodes = 30\n",
    "n_class = 3\n",
    "n_predictors = len(hop_train.columns)\n",
    "n_obs = len(hop_train.index)\n",
    "training_iterations = 100\n",
    "# batch_size = 5000"
   ]
  },
  {
   "cell_type": "code",
   "execution_count": 66,
   "metadata": {
    "collapsed": true
   },
   "outputs": [],
   "source": [
    "# Define Graph\n",
    "x = tf.placeholder('float', [None, n_predictors])\n",
    "y = tf.placeholder('float', [None, n_class])\n",
    "\n",
    "def neural_network(data):\n",
    "    hidden_l1 = {'weights':tf.Variable(tf.random_normal([n_predictors, n_l1_nodes])),\n",
    "                 'bias':tf.Variable(tf.random_normal([n_l1_nodes]))}\n",
    "    hidden_l2 = {'weights':tf.Variable(tf.random_normal([n_l1_nodes, n_l2_nodes])),\n",
    "                 'bias':tf.Variable(tf.random_normal([n_l2_nodes]))}\n",
    "    output_l = {'weights':tf.Variable(tf.random_normal([n_l2_nodes, n_class])),\n",
    "                 'bias':tf.Variable(tf.random_normal([n_class]))}\n",
    "    \n",
    "    l1 = tf.add(tf.matmul(data, hidden_l1['weights']), hidden_l1['bias'])\n",
    "    l1 = tf.nn.relu(l1)\n",
    "    l2 = tf.add(tf.matmul(l1, hidden_l2['weights']), hidden_l2['bias'])\n",
    "    l2 = tf.nn.relu(l2)\n",
    "    l3 = tf.add(tf.matmul(l2, output_l['weights']), output_l['bias'])\n",
    "    \n",
    "    return l3"
   ]
  },
  {
   "cell_type": "code",
   "execution_count": 82,
   "metadata": {
    "collapsed": false
   },
   "outputs": [],
   "source": [
    "# cost function\n",
    "predictions = neural_network(x)\n",
    "cost = tf.reduce_mean(tf.nn.softmax_cross_entropy_with_logits(logits = predictions, labels = y))\n",
    "\n",
    "# optimisation function\n",
    "train_step = tf.train.AdamOptimizer().minimize(cost)\n",
    "\n",
    "# evaluation\n",
    "correct_prediction = tf.equal(tf.argmax(predictions, 1), tf.argmax(y, 1))\n",
    "\n",
    "accuracy = tf.reduce_mean(tf.cast(correct_prediction, 'float'))\n",
    "    "
   ]
  },
  {
   "cell_type": "code",
   "execution_count": 83,
   "metadata": {
    "collapsed": false
   },
   "outputs": [],
   "source": [
    "init = tf.global_variables_initializer()\n",
    "sess = tf.InteractiveSession()\n",
    "\n",
    "sess.run(init)"
   ]
  },
  {
   "cell_type": "code",
   "execution_count": 84,
   "metadata": {
    "collapsed": false
   },
   "outputs": [
    {
     "name": "stdout",
     "output_type": "stream",
     "text": [
      "training_accuracy => 0.10 for step 0\n",
      "training_accuracy => 0.11 for step 1\n",
      "training_accuracy => 0.11 for step 2\n",
      "training_accuracy => 0.11 for step 3\n",
      "training_accuracy => 0.11 for step 4\n",
      "training_accuracy => 0.12 for step 5\n",
      "training_accuracy => 0.12 for step 6\n",
      "training_accuracy => 0.12 for step 7\n",
      "training_accuracy => 0.12 for step 8\n",
      "training_accuracy => 0.13 for step 9\n",
      "training_accuracy => 0.13 for step 10\n",
      "training_accuracy => 0.14 for step 11\n",
      "training_accuracy => 0.14 for step 12\n",
      "training_accuracy => 0.15 for step 13\n",
      "training_accuracy => 0.15 for step 14\n",
      "training_accuracy => 0.16 for step 15\n",
      "training_accuracy => 0.17 for step 16\n",
      "training_accuracy => 0.18 for step 17\n",
      "training_accuracy => 0.18 for step 18\n",
      "training_accuracy => 0.19 for step 19\n",
      "training_accuracy => 0.20 for step 20\n",
      "training_accuracy => 0.21 for step 21\n",
      "training_accuracy => 0.22 for step 22\n",
      "training_accuracy => 0.23 for step 23\n",
      "training_accuracy => 0.23 for step 24\n",
      "training_accuracy => 0.24 for step 25\n",
      "training_accuracy => 0.25 for step 26\n",
      "training_accuracy => 0.25 for step 27\n",
      "training_accuracy => 0.26 for step 28\n",
      "training_accuracy => 0.27 for step 29\n",
      "training_accuracy => 0.28 for step 30\n",
      "training_accuracy => 0.28 for step 31\n",
      "training_accuracy => 0.29 for step 32\n",
      "training_accuracy => 0.29 for step 33\n",
      "training_accuracy => 0.30 for step 34\n",
      "training_accuracy => 0.31 for step 35\n",
      "training_accuracy => 0.32 for step 36\n",
      "training_accuracy => 0.32 for step 37\n",
      "training_accuracy => 0.33 for step 38\n",
      "training_accuracy => 0.34 for step 39\n",
      "training_accuracy => 0.34 for step 40\n",
      "training_accuracy => 0.35 for step 41\n",
      "training_accuracy => 0.35 for step 42\n",
      "training_accuracy => 0.36 for step 43\n",
      "training_accuracy => 0.37 for step 44\n",
      "training_accuracy => 0.38 for step 45\n",
      "training_accuracy => 0.38 for step 46\n",
      "training_accuracy => 0.39 for step 47\n",
      "training_accuracy => 0.40 for step 48\n",
      "training_accuracy => 0.40 for step 49\n",
      "training_accuracy => 0.41 for step 50\n",
      "training_accuracy => 0.41 for step 51\n",
      "training_accuracy => 0.41 for step 52\n",
      "training_accuracy => 0.42 for step 53\n",
      "training_accuracy => 0.43 for step 54\n",
      "training_accuracy => 0.43 for step 55\n",
      "training_accuracy => 0.44 for step 56\n",
      "training_accuracy => 0.45 for step 57\n",
      "training_accuracy => 0.45 for step 58\n",
      "training_accuracy => 0.46 for step 59\n",
      "training_accuracy => 0.46 for step 60\n",
      "training_accuracy => 0.47 for step 61\n",
      "training_accuracy => 0.47 for step 62\n",
      "training_accuracy => 0.47 for step 63\n",
      "training_accuracy => 0.47 for step 64\n",
      "training_accuracy => 0.47 for step 65\n",
      "training_accuracy => 0.48 for step 66\n",
      "training_accuracy => 0.48 for step 67\n",
      "training_accuracy => 0.48 for step 68\n",
      "training_accuracy => 0.48 for step 69\n",
      "training_accuracy => 0.48 for step 70\n",
      "training_accuracy => 0.48 for step 71\n",
      "training_accuracy => 0.49 for step 72\n",
      "training_accuracy => 0.49 for step 73\n",
      "training_accuracy => 0.49 for step 74\n",
      "training_accuracy => 0.49 for step 75\n",
      "training_accuracy => 0.49 for step 76\n",
      "training_accuracy => 0.49 for step 77\n",
      "training_accuracy => 0.49 for step 78\n",
      "training_accuracy => 0.49 for step 79\n",
      "training_accuracy => 0.49 for step 80\n",
      "training_accuracy => 0.50 for step 81\n",
      "training_accuracy => 0.50 for step 82\n",
      "training_accuracy => 0.50 for step 83\n",
      "training_accuracy => 0.50 for step 84\n",
      "training_accuracy => 0.50 for step 85\n",
      "training_accuracy => 0.50 for step 86\n",
      "training_accuracy => 0.50 for step 87\n",
      "training_accuracy => 0.50 for step 88\n",
      "training_accuracy => 0.50 for step 89\n",
      "training_accuracy => 0.50 for step 90\n",
      "training_accuracy => 0.50 for step 91\n",
      "training_accuracy => 0.51 for step 92\n",
      "training_accuracy => 0.51 for step 93\n",
      "training_accuracy => 0.51 for step 94\n",
      "training_accuracy => 0.51 for step 95\n",
      "training_accuracy => 0.51 for step 96\n",
      "training_accuracy => 0.51 for step 97\n",
      "training_accuracy => 0.51 for step 98\n",
      "training_accuracy => 0.51 for step 99\n"
     ]
    }
   ],
   "source": [
    "for i in range(training_iterations):\n",
    "\n",
    "    #print at each step\n",
    "    train_accuracy = accuracy.eval(feed_dict={x:hop_train, y: hop_train_label})       \n",
    "    print('training_accuracy => %.2f for step %d'%(train_accuracy, i))\n",
    "            \n",
    "    # train on batch\n",
    "    sess.run(train_step, feed_dict={x: hop_train, y: hop_train_label})"
   ]
  }
 ],
 "metadata": {
  "anaconda-cloud": {},
  "kernelspec": {
   "display_name": "Python [conda env:tensorflow]",
   "language": "python",
   "name": "conda-env-tensorflow-py"
  },
  "language_info": {
   "codemirror_mode": {
    "name": "ipython",
    "version": 3
   },
   "file_extension": ".py",
   "mimetype": "text/x-python",
   "name": "python",
   "nbconvert_exporter": "python",
   "pygments_lexer": "ipython3",
   "version": "3.5.2"
  }
 },
 "nbformat": 4,
 "nbformat_minor": 2
}
